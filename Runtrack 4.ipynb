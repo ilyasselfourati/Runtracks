{
 "cells": [
  {
   "cell_type": "markdown",
   "id": "61c7537b",
   "metadata": {},
   "source": [
    "<h1><center> Runtrack 4 : </center></h1>"
   ]
  },
  {
   "cell_type": "markdown",
   "id": "96839461",
   "metadata": {},
   "source": [
    "# Job 0"
   ]
  },
  {
   "cell_type": "code",
   "execution_count": 6,
   "id": "42e81258",
   "metadata": {},
   "outputs": [],
   "source": [
    "def factorielle(n):\n",
    "    if n==0 or n==1 :\n",
    "        return 1\n",
    "    else :\n",
    "        return n*factorielle(n-1)"
   ]
  },
  {
   "cell_type": "code",
   "execution_count": 9,
   "id": "efeb4ec8",
   "metadata": {},
   "outputs": [
    {
     "name": "stdout",
     "output_type": "stream",
     "text": [
      "entrer un entier naturel :3\n",
      "3  factorielle égale à : 6\n"
     ]
    }
   ],
   "source": [
    "x=int(input('entrer un entier naturel :'))\n",
    "print( x,' factorielle égale à :', factorielle(x))"
   ]
  },
  {
   "cell_type": "markdown",
   "id": "408f484b",
   "metadata": {},
   "source": [
    "# Job 01 :"
   ]
  },
  {
   "cell_type": "code",
   "execution_count": 10,
   "id": "c02a405e",
   "metadata": {},
   "outputs": [],
   "source": [
    "def puissance_n(x,n) :\n",
    "    if n==0 :\n",
    "        return 1\n",
    "    else :\n",
    "        return x*puissance_n(x,n-1)"
   ]
  },
  {
   "cell_type": "code",
   "execution_count": 13,
   "id": "8f461e6a",
   "metadata": {},
   "outputs": [
    {
     "name": "stdout",
     "output_type": "stream",
     "text": [
      "Entrer un entier relatif :3\n",
      "Entrer la puissance : 3\n",
      "3  puissance  3  =  27\n"
     ]
    }
   ],
   "source": [
    "x=int(input('Entrer un entier relatif :'))\n",
    "n=int(input('Entrer la puissance : '))\n",
    "print(x,' puissance ', n ,' = ', puissance_n(x,n))"
   ]
  },
  {
   "cell_type": "markdown",
   "id": "0456ac2e",
   "metadata": {},
   "source": [
    "# Job 03 :"
   ]
  },
  {
   "cell_type": "code",
   "execution_count": null,
   "id": "88ef9761",
   "metadata": {},
   "outputs": [],
   "source": []
  }
 ],
 "metadata": {
  "kernelspec": {
   "display_name": "Python 3 (ipykernel)",
   "language": "python",
   "name": "python3"
  },
  "language_info": {
   "codemirror_mode": {
    "name": "ipython",
    "version": 3
   },
   "file_extension": ".py",
   "mimetype": "text/x-python",
   "name": "python",
   "nbconvert_exporter": "python",
   "pygments_lexer": "ipython3",
   "version": "3.9.7"
  }
 },
 "nbformat": 4,
 "nbformat_minor": 5
}
