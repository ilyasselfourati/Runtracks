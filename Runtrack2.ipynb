{
 "cells": [
  {
   "cell_type": "markdown",
   "id": "0eaa728f",
   "metadata": {},
   "source": [
    " <h1><center>Runtrack 2 : </center></h1>"
   ]
  },
  {
   "cell_type": "markdown",
   "id": "f773d913",
   "metadata": {},
   "source": [
    "## Job 0\n"
   ]
  },
  {
   "cell_type": "code",
   "execution_count": 2,
   "id": "50e6cc93",
   "metadata": {
    "scrolled": false
   },
   "outputs": [
    {
     "name": "stdout",
     "output_type": "stream",
     "text": [
      "cristiano ronaldo\n",
      "nole djoko\n",
      "rafa nadal\n"
     ]
    }
   ],
   "source": [
    "class Personne :\n",
    "    def __init__(self, prenom, nom):\n",
    "        self.prenom=prenom\n",
    "        self.nom=nom\n",
    "        \n",
    "    def set_prenom(self, prenom2):\n",
    "        self.prenom=prenom2\n",
    "    \n",
    "    def set_nom(self,nom2) :\n",
    "        self.nom=nom2\n",
    "    \n",
    "    def get_nom(self):\n",
    "        return self.nom\n",
    "    \n",
    "    def get_prenom(self):\n",
    "        return self_prenom\n",
    "    \n",
    "    def sepresenter(self):\n",
    "        return (self.prenom +' '+ self.nom)\n",
    "\n",
    "a=Personne('cristiano','ronaldo')\n",
    "b=Personne('nole','djoko')\n",
    "print(a.sepresenter()+ '\\n'+b.sepresenter())\n",
    "a.set_prenom('rafa')\n",
    "a.set_nom('nadal')\n",
    "print(a.sepresenter())\n"
   ]
  },
  {
   "cell_type": "markdown",
   "id": "210054c0",
   "metadata": {},
   "source": [
    "## Job 1"
   ]
  },
  {
   "cell_type": "code",
   "execution_count": 3,
   "id": "144de7d6",
   "metadata": {},
   "outputs": [
    {
     "name": "stdout",
     "output_type": "stream",
     "text": [
      "None\n",
      "['Praga', 'Policier', \"L'aigle solitaire\", 'Musique']\n",
      "L'aigle solitaire\n"
     ]
    }
   ],
   "source": [
    "class Livre :\n",
    "    \n",
    "    def __init__(self, titre,reference):\n",
    "        self.titre=titre\n",
    "        self.reference=reference\n",
    "        self.reference.ecrireUnLivre(titre)\n",
    "    \n",
    "    def __repr__(self):\n",
    "        return self.titre\n",
    "    \n",
    "class Auteur(Personne):\n",
    "    \n",
    "    def __init__(self, prenom, nom, oeuvre=[]):\n",
    "        Personne.__init__(self,prenom,nom)\n",
    "        self.oeuvre=oeuvre\n",
    "        \n",
    "    def listerOeuvre(self):\n",
    "        return self.oeuvre\n",
    "    \n",
    "    def ecrireUnLivre(self,titre):\n",
    "        self.oeuvre.append(titre)\n",
    "        \n",
    "       \n",
    "b=Auteur('Danielle','Steel',['Praga','Policier'])\n",
    "a=Livre(\"L'aigle solitaire\",b)\n",
    "\n",
    "c=Personne('Danielle','Steel')\n",
    "print(b.ecrireUnLivre('Musique'))\n",
    "print(b.listerOeuvre())\n",
    "print(a)"
   ]
  },
  {
   "cell_type": "markdown",
   "id": "c714a54e",
   "metadata": {},
   "source": [
    "## Job 2.718\n"
   ]
  },
  {
   "cell_type": "code",
   "execution_count": 4,
   "id": "a40f5dbd",
   "metadata": {},
   "outputs": [
    {
     "name": "stdout",
     "output_type": "stream",
     "text": [
      "le catalogue de la biblio à t=0\n",
      "inventaire du biblio : [('a', 3), ('b', 5), ('cris', 5)]\n",
      "l'inventaire du bibilio et client aprés que le client à louer a et cris\n",
      "inventaire du biblio : [('a', 2), ('b', 5), ('cris', 4)]\n",
      "inventaire du client : ['cris', 'a']\n",
      "l'inventaire du biblio et client aprés que le client à rendu les livres\n",
      "inventaire du biblio : [('a', 3), ('b', 5), ('cris', 5)]\n",
      "inventaire du client : []\n"
     ]
    }
   ],
   "source": [
    "class Client(Personne) :\n",
    "    \n",
    "    def __init__(self,prenom,nom, collection=[]):\n",
    "        Personne.__init__(self,prenom,nom)\n",
    "        self.collection=collection\n",
    "    def inventaire(self) :\n",
    "        return self.collection\n",
    "        \n",
    "\n",
    "class Bibliotheque:\n",
    "    \n",
    "    def __init__(self, nom, catalogue={}) :\n",
    "        self.nom=nom\n",
    "        self.catalogue=catalogue\n",
    "    \n",
    "    def acheterLivre (self, auteur, noml,n) :\n",
    "        if noml in auteur.listerOeuvre() :\n",
    "            self.catalogue.update({noml : n})\n",
    "    def inventaire(self) :\n",
    "        L=[]\n",
    "        for i in self.catalogue.items() :\n",
    "            L.append(i)\n",
    "        return L\n",
    "    \n",
    "    def louer(self, client, noml) :\n",
    "        if noml in self.catalogue.keys() :\n",
    "            if self.catalogue[noml]>0 :\n",
    "                self.catalogue[noml]-=1\n",
    "                client.collection.append(noml)\n",
    "            else : \n",
    "                return (\"Le livre que vous cherchez n'est pas dans le stock\")\n",
    "    \n",
    "    def rendreLivres(self, client) :\n",
    "        for i in client.collection :\n",
    "            self.catalogue[i]+=1\n",
    "        client.collection=[]\n",
    "\n",
    "\n",
    "#Tests :\n",
    "A1=Auteur('f','a',['cris'])\n",
    "C1=Client('ilyass','elfou')\n",
    "B1=Bibliotheque('librairie',{'a':3,'b':5})\n",
    "B1.acheterLivre(A1,'cris',5)\n",
    "print('le catalogue de la biblio à t=0')\n",
    "print('inventaire du biblio : {}'.format(B1.inventaire()))\n",
    "B1.louer(C1,'cris')\n",
    "B1.louer(C1,'a')\n",
    "print(\"l'inventaire du bibilio et client aprés que le client à louer a et cris\")\n",
    "print('inventaire du biblio : {}'.format(B1.inventaire()))\n",
    "print('inventaire du client : {}'.format(C1.inventaire()))\n",
    "B1.rendreLivres(C1)\n",
    "print(\"l'inventaire du biblio et client aprés que le client à rendu les livres\")\n",
    "print('inventaire du biblio : {}'.format(B1.inventaire()))\n",
    "print('inventaire du client : {}'.format(C1.inventaire()))\n",
    "        \n",
    "        \n",
    "        "
   ]
  },
  {
   "cell_type": "markdown",
   "id": "6a318ce4",
   "metadata": {},
   "source": [
    "## Job 7.389"
   ]
  },
  {
   "cell_type": "code",
   "execution_count": 5,
   "id": "4ab0e5da",
   "metadata": {},
   "outputs": [],
   "source": [
    "import numpy as np"
   ]
  },
  {
   "cell_type": "code",
   "execution_count": 191,
   "id": "28a9cd27",
   "metadata": {},
   "outputs": [],
   "source": [
    "class Board :\n",
    "    def __init__(self,i,j) :\n",
    "        self.i=i\n",
    "        self.j=j\n",
    "        self.tab=np.full((i,j),'O')\n",
    "        self.veri=0\n",
    "    def play(self, n, color) :\n",
    "        l=len(self.tab[0])\n",
    "        if self.veri==1 :\n",
    "            self_veri=2\n",
    "            return\n",
    "        elif self.veri==2  :\n",
    "            return\n",
    "          \n",
    "        #p=n-1\n",
    "        #tab=np.full((i,j),'O')\n",
    "        if color != 'jaune' and color != 'rouge' :\n",
    "            return('Impossible') \n",
    "        \n",
    "        elif self.tab[0][n]!='O':\n",
    "            return('Colonne compléte. Essayez une autre colonne !')\n",
    "        \n",
    "        else :\n",
    "            for k in range (self.i) :\n",
    "                if self.tab[self.i-1-k][n] == 'O' :\n",
    "                    self.tab[self.i-1-k][n]=color\n",
    "                    row=self.i-1-k\n",
    "                    break\n",
    "                    \n",
    "            for j in range (0,4):\n",
    "                try :\n",
    "                    if self.tab[row][n-j]==self.tab[row][n-j+1]==self.tab[row][n-j+2]==self.tab[row][n-j+3] :\n",
    "                        self.veri=1\n",
    "                        return(print('WIN colonne. Game Over'))\n",
    "                        break\n",
    "                        \n",
    "                        \n",
    "                    elif self.tab[row-j][n]==self.tab[row-j+1][n]==self.tab[row-j+2][n]==self.tab[row-j+3][n] :\n",
    "                                \n",
    "                        self.veri=1\n",
    "                        return(print('WIN ligne. Game Over'))\n",
    "                        break\n",
    "                        \n",
    "                        \n",
    "                    elif self.tab[row-j][n-j]==self.tab[row-j+1][n-j+1]==self.tab[row-j+2][n-j+2]==self.tab[row-j+3][n-j+3] :\n",
    "                                \n",
    "                        self.veri=1\n",
    "                        return(print('WIN diagonal . Game Over'))\n",
    "                        break\n",
    "                        \n",
    "                            \n",
    "                    \n",
    "                    \n",
    "                    elif self.tab[(l-1-j)-row][n-j+3]==self.tab[(l-j)-row][n-j+2]==self.tab[(l+1-j)-row][n-j+1]==self.tab[(l+2-j)-row][n-j] :\n",
    "                        \n",
    "                        if   self.tab[(l+1-j)-row][n-j+1] !='O': \n",
    "                            self.veri=1\n",
    "                            #print(j,self.tab[(l-1-j)-row][n-j+3], self.tab[(l-j)-row][n-j+2], self.tab[(l+1-j)-row][n-j+1],self.tab[(l+2-j)-row][n-j])\n",
    "                            return (print('WIN anti-diagonal . Game Over'))\n",
    "                            break                 \n",
    "                                          \n",
    "                except IndexError:\n",
    "                    continue\n",
    "                    \n",
    "    \n",
    "    def print_t(self):\n",
    "        #if self.veri==2 or self.veri==1 :\n",
    "            #print('s ')\n",
    "        return self.tab\n",
    "    \n",
    "                                  "
   ]
  },
  {
   "cell_type": "code",
   "execution_count": 185,
   "id": "02fdf0a9",
   "metadata": {},
   "outputs": [
    {
     "data": {
      "text/plain": [
       "'Impossible'"
      ]
     },
     "execution_count": 185,
     "metadata": {},
     "output_type": "execute_result"
    }
   ],
   "source": [
    "P1=Board(4,4)\n",
    "P1.play(2,'j')\n",
    "P1.play(2,'j')\n",
    "P1.play(2,'r')\n",
    "P1.play(0,'r')\n",
    "P1.play(0,'j')\n",
    "P1.play(0,'r')\n",
    "P1.play(0,'r')\n",
    "P1.play(1,'r')\n",
    "P1.play(1,'r')\n",
    "P1.play(1,'r')\n",
    "P1.play(3,'r')\n",
    "P1.play(3,'r')\n",
    "P1.play(3,'j')\n",
    "P1.play(3,'r')\n",
    "\n",
    "\n"
   ]
  },
  {
   "cell_type": "code",
   "execution_count": 190,
   "id": "da07a0a7",
   "metadata": {},
   "outputs": [
    {
     "name": "stdout",
     "output_type": "stream",
     "text": [
      "WIN ligne. Game Over\n"
     ]
    },
    {
     "data": {
      "text/plain": [
       "array([['r', 'O', 'O', 'O', 'O', 'O'],\n",
       "       ['j', 'r', 'O', 'O', 'O', 'O'],\n",
       "       ['r', 'r', 'O', 'O', 'O', 'O'],\n",
       "       ['j', 'r', 'O', 'O', 'O', 'O'],\n",
       "       ['j', 'r', 'O', 'O', 'O', 'O'],\n",
       "       ['j', 'j', 'O', 'O', 'O', 'O']], dtype='<U1')"
      ]
     },
     "execution_count": 190,
     "metadata": {},
     "output_type": "execute_result"
    }
   ],
   "source": [
    "board_test=Board(6,6)\n",
    "board_test.play(0,'jaune')\n",
    "board_test.print_t()\n",
    "board_test.play(0,'jaune')\n",
    "board_test.print_t()\n",
    "board_test.play(0,'jaune')\n",
    "board_test.print_t()\n",
    "board_test.play(0,'rouge')\n",
    "board_test.print_t()\n",
    "board_test.play(0,'jaune')\n",
    "board_test.print_t()\n",
    "board_test.play(0,'rouge')\n",
    "board_test.print_t()\n",
    "board_test.play(1,'jaune')\n",
    "board_test.print_t()\n",
    "board_test.play(1,'rouge')\n",
    "board_test.print_t()\n",
    "board_test.play(1,'rouge')\n",
    "board_test.print_t()\n",
    "board_test.play(1,'rouge')\n",
    "board_test.print_t()\n",
    "board_test.play(1,'rouge')\n",
    "board_test.print_t()\n",
    "board_test.play(2,'rouge')\n",
    "board_test.print_t()\n",
    "board_test.play(2,'rouge')\n",
    "board_test.print_t()\n",
    "board_test.play(2,'rouge')\n",
    "board_test.print_t()\n",
    "board_test.play(2,'rouge')\n",
    "board_test.print_t()\n",
    "board_test.play(3,'rouge')\n",
    "board_test.print_t()\n",
    "board_test.play(3,'rouge')\n",
    "board_test.print_t()\n",
    "board_test.play(3,'rouge')\n",
    "board_test.print_t()\n",
    "board_test.play(4,'rouge')\n",
    "board_test.print_t()\n",
    "board_test.play(4,'rouge')\n",
    "board_test.print_t()\n",
    "board_test.play(5,'rouge')\n",
    "board_test.print_t()"
   ]
  },
  {
   "cell_type": "markdown",
   "id": "264ecca9",
   "metadata": {},
   "source": [
    "# Job 20.085"
   ]
  },
  {
   "cell_type": "markdown",
   "id": "988f9dbc",
   "metadata": {},
   "source": [
    "Créez une classe AI_One. Cette classe devra implémenter une méthode “think” prenant\n",
    "en paramètres un board ainsi qu’une chaine de caracteres pouvant être “rouge” ou\n",
    "“jaune”. Cette méthode devra retourner le numéro de colonne dans laquelle jouer en tant\n",
    "que joueur de la couleur donnée.\n",
    "Implémentez le déroulement d’une partie permettant à un joueur de jouer contre AI_One."
   ]
  },
  {
   "cell_type": "code",
   "execution_count": null,
   "id": "db9f7f9d",
   "metadata": {},
   "outputs": [],
   "source": [
    "class AI_One :\n",
    "    \n",
    "    def __init__(self, board) :\n",
    "        self.board=board\n",
    "    \n",
    "    def think(self, color) :\n",
    "        if color != 'jaune' and color != 'rouge' :\n",
    "            return('Impossible')\n",
    "        \n",
    "        else :\n",
    "            \n",
    "        "
   ]
  }
 ],
 "metadata": {
  "kernelspec": {
   "display_name": "Python 3 (ipykernel)",
   "language": "python",
   "name": "python3"
  },
  "language_info": {
   "codemirror_mode": {
    "name": "ipython",
    "version": 3
   },
   "file_extension": ".py",
   "mimetype": "text/x-python",
   "name": "python",
   "nbconvert_exporter": "python",
   "pygments_lexer": "ipython3",
   "version": "3.9.7"
  }
 },
 "nbformat": 4,
 "nbformat_minor": 5
}
