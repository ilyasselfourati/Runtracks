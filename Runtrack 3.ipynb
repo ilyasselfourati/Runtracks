{
 "cells": [
  {
   "cell_type": "markdown",
   "id": "4390cbf9",
   "metadata": {},
   "source": [
    " <h1><center>Runtrack 3 : </center></h1>"
   ]
  },
  {
   "cell_type": "markdown",
   "id": "ea65c17b",
   "metadata": {},
   "source": [
    "## Job 0"
   ]
  },
  {
   "cell_type": "code",
   "execution_count": 1,
   "id": "68e2a52e",
   "metadata": {},
   "outputs": [
    {
     "name": "stdout",
     "output_type": "stream",
     "text": [
      "Entrer une chaîne de caractère : ouii\n"
     ]
    }
   ],
   "source": [
    "x=input('Entrer une chaîne de caractère : ')\n",
    "text_file = open(\"sample.txt\", \"w\")\n",
    "n = text_file.write(x)\n",
    "text_file.close()"
   ]
  },
  {
   "cell_type": "markdown",
   "id": "f8ad831d",
   "metadata": {},
   "source": [
    "## Job 0.1"
   ]
  },
  {
   "cell_type": "code",
   "execution_count": 2,
   "id": "9ca43cd1",
   "metadata": {},
   "outputs": [
    {
     "data": {
      "text/plain": [
       "'ouii'"
      ]
     },
     "execution_count": 2,
     "metadata": {},
     "output_type": "execute_result"
    }
   ],
   "source": [
    "with open('sample.txt', 'r') as file:\n",
    "    data = file.read()\n",
    "\n",
    "data"
   ]
  },
  {
   "cell_type": "markdown",
   "id": "317954ad",
   "metadata": {},
   "source": [
    "## Job 01"
   ]
  },
  {
   "cell_type": "code",
   "execution_count": 4,
   "id": "9915f323",
   "metadata": {},
   "outputs": [],
   "source": [
    "import pandas as pd"
   ]
  },
  {
   "cell_type": "code",
   "execution_count": 5,
   "id": "36163dd8",
   "metadata": {},
   "outputs": [
    {
     "name": "stdout",
     "output_type": "stream",
     "text": [
      "Le nombre d’extension de domaines est  32\n"
     ]
    }
   ],
   "source": [
    "url='domains.xml'\n",
    "with open(url, 'r') as file :\n",
    "    content=file.readlines()\n",
    "L=[]\n",
    "for i in range (len(content)) :\n",
    "    \n",
    "    if '<column name=\"domain\">' in content[i] :\n",
    "        for j in range (-100,0) :\n",
    "            if '</column>'==content[i][j-9:j] :\n",
    "               \n",
    "                if content[i][j-14]=='.' :\n",
    "                                       \n",
    "                    if content[i][j-17]=='.'  :\n",
    "                        L.append(content[i][j-16:j-9])\n",
    "                    \n",
    "                    elif content[i][j-18]=='.'  :\n",
    "                        L.append(content[i][j-17:j-9])\n",
    "                    elif content[i][j-19]=='.'  :\n",
    "                        L.append(content[i][j-18:j-9])\n",
    "                    else :\n",
    "                        L.append(content[i][j-13:j-9])\n",
    "                \n",
    "                \n",
    "                elif content[i][j-13]=='.' :\n",
    "                    \n",
    "                    if content[i][j-17]=='.'  :\n",
    "                        L.append(content[i][j-16:j-9])\n",
    "                    \n",
    "                    elif content[i][j-16]=='.'  :\n",
    "                        L.append(content[i][j-15:j-9])\n",
    "                    elif content[i][j-18]=='.'  :\n",
    "                        L.append(content[i][j-17:j-9])\n",
    "                    else :\n",
    "                        L.append(content[i][j-12:j-9])\n",
    "                \n",
    "                                \n",
    "                \n",
    "                elif content[i][j-12]=='.'  :\n",
    "                    \n",
    "                    if content[i][j-17]=='.'  :\n",
    "                        L.append(content[i][j-16:j-9])\n",
    "                    elif content[i][j-15]=='.'  :\n",
    "                        L.append(content[i][j-14:j-9])\n",
    "                    \n",
    "                    elif content[i][j-16]=='.'  :\n",
    "                        L.append(content[i][j-15:j-9])\n",
    "                    else :\n",
    "                        L.append(content[i][j-11:j-9])\n",
    "                        \n",
    "         #------------------------------------------------------       \n",
    "                    \n",
    "                \n",
    "\n",
    "                    \n",
    "                    \n",
    "resultantList = [] \n",
    "for element in L:\n",
    "    if element not in resultantList:\n",
    "        resultantList.append(element)\n",
    "print ('Le nombre d’extension de domaines est ', len(resultantList))\n",
    "\n",
    "#for i in resultantList :\n",
    " #   s=0\n",
    "  #  for j in range (len(L)) :\n",
    "   #     if i==L[j] :\n",
    "    #        s+=1 \n",
    "        \n",
    "    #print (\"le nombre d'extension : {} qui se trouve dans ce fichier est {} \".format(i,s))\n",
    "       \n",
    "        \n",
    "    \n",
    "  \n",
    "    \n",
    "\n",
    "                    "
   ]
  },
  {
   "cell_type": "code",
   "execution_count": 6,
   "id": "093d7599",
   "metadata": {},
   "outputs": [],
   "source": [
    "for i in range (-15,0) :  \n",
    "    if '</column>'==content[35][i-9:i] :\n",
    "        break\n",
    "        "
   ]
  },
  {
   "cell_type": "code",
   "execution_count": 7,
   "id": "f6c40486",
   "metadata": {},
   "outputs": [
    {
     "data": {
      "text/plain": [
       "['com',\n",
       " 'net',\n",
       " 'org',\n",
       " 'us.to',\n",
       " 'de',\n",
       " 'ht.cx',\n",
       " 'info',\n",
       " 'fr.nf',\n",
       " 'in',\n",
       " 'it',\n",
       " 'com.br',\n",
       " 'tk',\n",
       " 'co.uk',\n",
       " 'biz',\n",
       " 'eu',\n",
       " 'co.cc',\n",
       " 'by',\n",
       " 'lv',\n",
       " 'cc',\n",
       " 'zik.dj',\n",
       " 'nu',\n",
       " 'web.id',\n",
       " 'ws',\n",
       " 'xl.cx',\n",
       " 'ze.tc',\n",
       " 'us',\n",
       " 'at',\n",
       " 'me',\n",
       " 'la',\n",
       " 'ru',\n",
       " '1s.fr',\n",
       " 'fr']"
      ]
     },
     "execution_count": 7,
     "metadata": {},
     "output_type": "execute_result"
    }
   ],
   "source": [
    "resultantList"
   ]
  },
  {
   "cell_type": "code",
   "execution_count": 8,
   "id": "441ef4c3",
   "metadata": {},
   "outputs": [
    {
     "data": {
      "text/plain": [
       "'.'"
      ]
     },
     "execution_count": 8,
     "metadata": {},
     "output_type": "execute_result"
    }
   ],
   "source": [
    "##Exemple :\n",
    "content[35][-14:-10]\n",
    "content[35][-10:-1] #='</column>'\n",
    "content[35][-14:-10] #=.com\n",
    "content[35][-14]\n",
    "\n"
   ]
  },
  {
   "cell_type": "markdown",
   "id": "cd128f9f",
   "metadata": {},
   "source": [
    "## Job 01"
   ]
  },
  {
   "cell_type": "code",
   "execution_count": 9,
   "id": "d00d32e1",
   "metadata": {},
   "outputs": [],
   "source": [
    "import string\n",
    "result = string.punctuation \n",
    "L=[i for i in result]\n",
    "fin=open('data1.txt','r').readlines()\n",
    "data=open('cleared_data.txt','w')\n",
    "\n",
    "for line in fin:\n",
    "    for word in L:\n",
    "        line = line.replace(word, \"\")\n",
    "    data.write(line)\n",
    "\n",
    "data.close()"
   ]
  },
  {
   "cell_type": "code",
   "execution_count": 10,
   "id": "06b661c9",
   "metadata": {},
   "outputs": [
    {
     "name": "stdout",
     "output_type": "stream",
     "text": [
      "Number of words in text file : 1173035\n"
     ]
    }
   ],
   "source": [
    "file = open(\"cleared_data.txt\", \"rt\")\n",
    "data1 = file.read()\n",
    "words = data1.split()\n",
    "\n",
    "print('Number of words in text file :', len(words))\n"
   ]
  },
  {
   "cell_type": "markdown",
   "id": "d80fa8e1",
   "metadata": {},
   "source": [
    "## Job 02 :\n"
   ]
  },
  {
   "cell_type": "code",
   "execution_count": 11,
   "id": "8326d959",
   "metadata": {},
   "outputs": [
    {
     "name": "stdout",
     "output_type": "stream",
     "text": [
      "Entrer un nombre entier : 5\n",
      "Le nombre de mots de taille  5 est :  166223\n"
     ]
    }
   ],
   "source": [
    "x=int(input('Entrer un nombre entier : '))\n",
    "file=open(\"cleared_data.txt\", \"rt\")\n",
    "data1=file.read()\n",
    "words = data1.split()\n",
    "s=0\n",
    "\n",
    "for i in words :\n",
    "    if len(i) == x :\n",
    "        s=s+1\n",
    "\n",
    "print('Le nombre de mots de taille ', x , 'est : ', s)"
   ]
  },
  {
   "cell_type": "markdown",
   "id": "167ac265",
   "metadata": {},
   "source": [
    "##  Job 03 :\n"
   ]
  },
  {
   "cell_type": "code",
   "execution_count": 12,
   "id": "f00bd88d",
   "metadata": {},
   "outputs": [],
   "source": [
    "import matplotlib.pyplot as plt"
   ]
  },
  {
   "cell_type": "code",
   "execution_count": 13,
   "id": "6f1fd386",
   "metadata": {},
   "outputs": [],
   "source": [
    "s=0\n",
    "P=[]\n",
    "D={}\n",
    "for i in range (len(words)) :\n",
    "    for j in range (len(words[i])):\n",
    "        P.append(words[i][j].lower())\n",
    "\n",
    "P_unique = [] \n",
    "for element in P:\n",
    "    if element not in P_unique:\n",
    "        P_unique.append(element) \n",
    "#for c in P_unique :\n",
    " #   for i in range (len(P)) :\n",
    "  #      if c==P[i] :\n",
    "   #         s+=1\n",
    "    #    D[c]=s\n",
    "            \n",
    "        \n",
    "    \n",
    "   "
   ]
  },
  {
   "cell_type": "code",
   "execution_count": 14,
   "id": "9369e924",
   "metadata": {},
   "outputs": [],
   "source": [
    "import pandas as pd\n",
    "import seaborn as sns"
   ]
  },
  {
   "cell_type": "code",
   "execution_count": 15,
   "id": "540fdf5c",
   "metadata": {},
   "outputs": [],
   "source": [
    "DATA=pd.DataFrame({'lettres' : P})\n",
    "lplot=DATA.groupby(['lettres']).lettres.agg([len])\n",
    "but=lplot.reset_index()\n",
    "total=but['len'].sum()\n",
    "but['Pourcentage']=but['len']*100/total"
   ]
  },
  {
   "cell_type": "code",
   "execution_count": 16,
   "id": "4db14ed9",
   "metadata": {},
   "outputs": [
    {
     "data": {
      "text/plain": [
       "<AxesSubplot:xlabel='lettres', ylabel='Pourcentage'>"
      ]
     },
     "execution_count": 16,
     "metadata": {},
     "output_type": "execute_result"
    },
    {
     "data": {
      "image/png": "[encoded data removed]",
      "text/plain": [
       "<Figure size 432x288 with 1 Axes>"
      ]
     },
     "metadata": {
      "needs_background": "light"
     },
     "output_type": "display_data"
    }
   ],
   "source": [
    "sns.barplot(data=but,x='lettres',y='Pourcentage',color='b')"
   ]
  },
  {
   "cell_type": "markdown",
   "id": "dabf4313",
   "metadata": {},
   "source": [
    "## Job 05"
   ]
  },
  {
   "cell_type": "code",
   "execution_count": 17,
   "id": "9c806f1c",
   "metadata": {},
   "outputs": [],
   "source": [
    "T=[]\n",
    "for i in words :\n",
    "    T.append(len(i))\n",
    "    \n",
    "Taille_mots=pd.DataFrame({'Taille': T})\n",
    "\n",
    "zrae=Taille_mots.groupby(['Taille']).Taille.agg([len])\n",
    "hack=zrae.reset_index()\n",
    "\n",
    "total=hack['len'].sum()\n",
    "\n",
    "hack['Pourcentage']=hack['len']*100/total\n"
   ]
  },
  {
   "cell_type": "code",
   "execution_count": 18,
   "id": "1670b6c8",
   "metadata": {},
   "outputs": [
    {
     "data": {
      "text/plain": [
       "<AxesSubplot:xlabel='Taille', ylabel='Pourcentage'>"
      ]
     },
     "execution_count": 18,
     "metadata": {},
     "output_type": "execute_result"
    },
    {
     "data": {
      "image/png": "[encoded data removed]",
      "text/plain": [
       "<Figure size 432x288 with 1 Axes>"
      ]
     },
     "metadata": {
      "needs_background": "light"
     },
     "output_type": "display_data"
    }
   ],
   "source": [
    "sns.barplot(data=hack,x='Taille',y='Pourcentage',color='r')"
   ]
  },
  {
   "cell_type": "markdown",
   "id": "0dde74a0",
   "metadata": {},
   "source": [
    "## Job 08"
   ]
  },
  {
   "cell_type": "code",
   "execution_count": 19,
   "id": "9e1170de",
   "metadata": {},
   "outputs": [],
   "source": [
    "R=[]\n",
    "for i in words :\n",
    "    R.append(i[0].lower())\n",
    "    \n",
    "debut_mot=pd.DataFrame({'Occurence':R})\n",
    "transition=debut_mot.groupby(['Occurence']).Occurence.agg([len])\n",
    "debut_mots=transition.reset_index()\n",
    "total=debut_mots['len'].sum()\n",
    "debut_mots['Pourcentage']=debut_mots['len']*100/total\n"
   ]
  },
  {
   "cell_type": "code",
   "execution_count": 20,
   "id": "08d58b03",
   "metadata": {},
   "outputs": [
    {
     "data": {
      "text/plain": [
       "<AxesSubplot:xlabel='Occurence', ylabel='Pourcentage'>"
      ]
     },
     "execution_count": 20,
     "metadata": {},
     "output_type": "execute_result"
    },
    {
     "data": {
      "image/png": "[encoded data removed]",
      "text/plain": [
       "<Figure size 432x288 with 1 Axes>"
      ]
     },
     "metadata": {
      "needs_background": "light"
     },
     "output_type": "display_data"
    }
   ],
   "source": [
    "sns.barplot(data=debut_mots, x='Occurence', y='Pourcentage', color='c')\n"
   ]
  },
  {
   "cell_type": "markdown",
   "id": "985f800a",
   "metadata": {},
   "source": [
    "## Job 13"
   ]
  },
  {
   "cell_type": "code",
   "execution_count": 21,
   "id": "617a22d9",
   "metadata": {},
   "outputs": [],
   "source": [
    "alphabet='abcdefghijklmnopqrstuvwxyz'\n",
    "#fig, axes = plt.subplots(figsize=(12, 12), nrows=len(alphabet))\n",
    "\n",
    "def job (lettre) :\n",
    "    K=[]\n",
    "    for i in range (len(R)) :\n",
    "        try :\n",
    "            if R[i]==lettre :\n",
    "                K.append(R[i+1])\n",
    "        except IndexError :\n",
    "            continue\n",
    "    after_word=pd.DataFrame({'ALettre' : K})\n",
    "    transitio=after_word.groupby(['ALettre']).ALettre.agg([len]).reset_index()\n",
    "    total=transitio['len'].sum()\n",
    "    transitio['Pourcentage']=transitio['len']*100/total\n",
    "    #print('La lettre :', lettre)\n",
    "    return transitio\n",
    "    \n",
    "    \n",
    "    \n",
    "    "
   ]
  },
  {
   "cell_type": "code",
   "execution_count": 22,
   "id": "878c4164",
   "metadata": {},
   "outputs": [
    {
     "data": {
      "image/png": "[encoded data removed]",
      "text/plain": [
       "<Figure size 432x288 with 1 Axes>"
      ]
     },
     "metadata": {
      "needs_background": "light"
     },
     "output_type": "display_data"
    }
   ],
   "source": [
    "fig, ax = plt.subplots()\n",
    "for lettre in alphabet :\n",
    "    df=job(lettre)    \n",
    "    sns.lineplot(data=df, x='ALettre', y='Pourcentage',ax=ax)\n",
    "\n"
   ]
  },
  {
   "cell_type": "code",
   "execution_count": 60,
   "id": "955984a1",
   "metadata": {},
   "outputs": [
    {
     "name": "stdout",
     "output_type": "stream",
     "text": [
      "La lettre : b\n"
     ]
    },
    {
     "data": {
      "image/png": "[encoded data removed]",
      "text/plain": [
       "<Figure size 432x288 with 1 Axes>"
      ]
     },
     "metadata": {
      "needs_background": "light"
     },
     "output_type": "display_data"
    }
   ],
   "source": [
    "job('b')"
   ]
  },
  {
   "cell_type": "code",
   "execution_count": 84,
   "id": "da8d74e5",
   "metadata": {},
   "outputs": [
    {
     "name": "stdout",
     "output_type": "stream",
     "text": [
      "La lettre : a\n"
     ]
    },
    {
     "data": {
      "text/plain": [
       "<AxesSubplot:xlabel='ALettre', ylabel='Pourcentage'>"
      ]
     },
     "execution_count": 84,
     "metadata": {},
     "output_type": "execute_result"
    },
    {
     "data": {
      "image/png": "[encoded data removed]",
      "text/plain": [
       "<Figure size 432x288 with 1 Axes>"
      ]
     },
     "metadata": {
      "needs_background": "light"
     },
     "output_type": "display_data"
    }
   ],
   "source": [
    "df=job('a')\n",
    "sns.lineplot(data=df, x='ALettre', y='Pourcentage')"
   ]
  },
  {
   "cell_type": "markdown",
   "id": "bcb7a6bc",
   "metadata": {},
   "source": [
    "## Job 21 :"
   ]
  },
  {
   "cell_type": "code",
   "execution_count": null,
   "id": "4165cc78",
   "metadata": {},
   "outputs": [],
   "source": []
  }
 ],
 "metadata": {
  "kernelspec": {
   "display_name": "Python 3 (ipykernel)",
   "language": "python",
   "name": "python3"
  },
  "language_info": {
   "codemirror_mode": {
    "name": "ipython",
    "version": 3
   },
   "file_extension": ".py",
   "mimetype": "text/x-python",
   "name": "python",
   "nbconvert_exporter": "python",
   "pygments_lexer": "ipython3",
   "version": "3.9.7"
  }
 },
 "nbformat": 4,
 "nbformat_minor": 5
}
