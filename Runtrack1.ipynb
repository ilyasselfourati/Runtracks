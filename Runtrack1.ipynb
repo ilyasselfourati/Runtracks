{
 "cells": [
  {
   "cell_type": "markdown",
   "id": "ccefcb59",
   "metadata": {},
   "source": [
    "## Jour 1\n"
   ]
  },
  {
   "cell_type": "markdown",
   "id": "9df979f4",
   "metadata": {},
   "source": [
    "## Job 2\n"
   ]
  },
  {
   "cell_type": "code",
   "execution_count": 1,
   "id": "2b4e840a",
   "metadata": {},
   "outputs": [
    {
     "data": {
      "text/plain": [
       "30"
      ]
     },
     "execution_count": 1,
     "metadata": {},
     "output_type": "execute_result"
    }
   ],
   "source": [
    "10*3"
   ]
  },
  {
   "cell_type": "code",
   "execution_count": 2,
   "id": "7469bf9a",
   "metadata": {},
   "outputs": [
    {
     "data": {
      "text/plain": [
       "7"
      ]
     },
     "execution_count": 2,
     "metadata": {},
     "output_type": "execute_result"
    }
   ],
   "source": [
    "10-3"
   ]
  },
  {
   "cell_type": "markdown",
   "id": "e93ebbe7",
   "metadata": {},
   "source": [
    "## Job 3"
   ]
  },
  {
   "cell_type": "code",
   "execution_count": 3,
   "id": "b467e619",
   "metadata": {},
   "outputs": [
    {
     "name": "stdout",
     "output_type": "stream",
     "text": [
      "13\n"
     ]
    }
   ],
   "source": [
    "print(10 + 3)\n"
   ]
  },
  {
   "cell_type": "markdown",
   "id": "ec9052fb",
   "metadata": {},
   "source": [
    "## Job 7"
   ]
  },
  {
   "cell_type": "code",
   "execution_count": 8,
   "id": "109c7ab7",
   "metadata": {},
   "outputs": [
    {
     "name": "stdout",
     "output_type": "stream",
     "text": [
      "4\n"
     ]
    }
   ],
   "source": [
    "def Add (x,y) :\n",
    "    return x+y\n",
    "\n",
    "print (Add(2,2))"
   ]
  },
  {
   "cell_type": "markdown",
   "id": "fac58d0e",
   "metadata": {},
   "source": [
    "## Job 11"
   ]
  },
  {
   "cell_type": "code",
   "execution_count": 6,
   "id": "1a972834",
   "metadata": {},
   "outputs": [
    {
     "name": "stdout",
     "output_type": "stream",
     "text": [
      "renseigner votre nom :Ilyass\n",
      "Hello Ilyass !\n"
     ]
    }
   ],
   "source": [
    "xx=input(\"renseigner votre nom :\")\n",
    "print ('Hello '+ xx + ' !')"
   ]
  },
  {
   "cell_type": "markdown",
   "id": "ae731883",
   "metadata": {},
   "source": [
    "## Job 13"
   ]
  },
  {
   "cell_type": "code",
   "execution_count": 10,
   "id": "a4a838e8",
   "metadata": {},
   "outputs": [
    {
     "name": "stdout",
     "output_type": "stream",
     "text": [
      "renseigner un nombre2\n",
      "renseigner un nombre3\n",
      "renseigner un nombre4\n",
      "renseigner un nombre9\n",
      "renseigner un nombre1\n"
     ]
    },
    {
     "data": {
      "text/plain": [
       "['1', '2', '3', '4', '9']"
      ]
     },
     "execution_count": 10,
     "metadata": {},
     "output_type": "execute_result"
    }
   ],
   "source": [
    "L=[]\n",
    "for i in range (0,5):\n",
    "    x=input('renseigner un nombre')\n",
    "    L.append(x)\n",
    "L.sort()\n",
    "L"
   ]
  },
  {
   "cell_type": "markdown",
   "id": "6499cde5",
   "metadata": {},
   "source": [
    "## Job 17"
   ]
  },
  {
   "cell_type": "code",
   "execution_count": 57,
   "id": "6907aace",
   "metadata": {},
   "outputs": [
    {
     "name": "stdout",
     "output_type": "stream",
     "text": [
      "[1, 2, 'Fizz', 4, 'Buzz', 'Fizz', 7, 8, 'Fizz', 'Buzz', 11, 'Fizz', 13, 14, 'FizzBuzz', 16, 17, 'Fizz', 19, 'Buzz', 'Fizz', 22, 23, 'Fizz', 'Buzz', 26, 'Fizz', 28, 29, 'FizzBuzz', 31, 32, 'Fizz', 34, 'Buzz', 'Fizz', 37, 38, 'Fizz', 'Buzz', 41, 'Fizz', 43, 44, 'FizzBuzz', 46, 47, 'Fizz', 49, 'Buzz', 'Fizz', 52, 53, 'Fizz', 'Buzz', 56, 'Fizz', 58, 59, 'FizzBuzz', 61, 62, 'Fizz', 64, 'Buzz', 'Fizz', 67, 68, 'Fizz', 'Buzz', 71, 'Fizz', 73, 74, 'FizzBuzz', 76, 77, 'Fizz', 79, 'Buzz', 'Fizz', 82, 83, 'Fizz', 'Buzz', 86, 'Fizz', 88, 89, 'FizzBuzz', 91, 92, 'Fizz', 94, 'Buzz', 'Fizz', 97, 98, 'Fizz', 'Buzz']\n"
     ]
    }
   ],
   "source": [
    "L=[]\n",
    "for i in range (1,101):\n",
    "    if i%3==0 and i%5==0:\n",
    "        L.append('FizzBuzz')\n",
    "    elif i%3==0 and i%5!=0 :\n",
    "        L.append('Fizz')\n",
    "    elif i%3!=0 and i%5==0 :\n",
    "        L.append('Buzz')\n",
    "    else : \n",
    "        L.append(i)\n",
    "    \n",
    "print(L)    "
   ]
  },
  {
   "cell_type": "markdown",
   "id": "b9fcabd4",
   "metadata": {},
   "source": [
    "## Job 19"
   ]
  },
  {
   "cell_type": "code",
   "execution_count": 22,
   "id": "7eb3e9c3",
   "metadata": {},
   "outputs": [
    {
     "name": "stdout",
     "output_type": "stream",
     "text": [
      "|--------------------|\n",
      "|                    |\n",
      "|                    |\n",
      "|                    |\n",
      "|--------------------|\n"
     ]
    }
   ],
   "source": [
    "def draw_rectangle(width, height):\n",
    "    for i in range (0,height):\n",
    "        if i==0 or i==height-1 :\n",
    "            print('|'+width*'-'+'|')\n",
    "                \n",
    "        else :\n",
    "            print('|'+width*' '+'|')\n",
    "draw_rectangle(20,5)"
   ]
  },
  {
   "cell_type": "markdown",
   "id": "649d94e0",
   "metadata": {},
   "source": [
    "## Job 23"
   ]
  },
  {
   "cell_type": "code",
   "execution_count": 33,
   "id": "e793fbd5",
   "metadata": {},
   "outputs": [
    {
     "name": "stdout",
     "output_type": "stream",
     "text": [
      "     /\\\n",
      "    /  \\\n",
      "   /    \\\n",
      "  /      \\\n",
      " /________\\\n"
     ]
    }
   ],
   "source": [
    "def draw_triangle(h):\n",
    "    for i in range (0,h) :\n",
    "        if i==h-1 :\n",
    "            print((h-i) * ' '+ '/'+ 2*i * '_'+ '\\\\')\n",
    "        else :\n",
    "            print((h-i) * ' '+ '/'+ 2*i * ' '+ '\\\\') \n",
    "    \n",
    "draw_triangle(5)"
   ]
  },
  {
   "cell_type": "markdown",
   "id": "ecaeb9b1",
   "metadata": {},
   "source": [
    "## Job 29"
   ]
  },
  {
   "cell_type": "code",
   "execution_count": 42,
   "id": "d70a89ff",
   "metadata": {},
   "outputs": [
    {
     "data": {
      "text/plain": [
       "[80, 85, 82]"
      ]
     },
     "execution_count": 42,
     "metadata": {},
     "output_type": "execute_result"
    }
   ],
   "source": [
    "def arondir(L):\n",
    "    for i in L :\n",
    "        for j in range (1,3) :\n",
    "            if (i+j)%5==0 :\n",
    "                L[L.index(i)]=i+j            \n",
    "            \n",
    "L=[80,83,82]\n",
    "arondir(L)\n",
    "L"
   ]
  },
  {
   "cell_type": "markdown",
   "id": "3e890826",
   "metadata": {},
   "source": [
    "## Job 31"
   ]
  },
  {
   "cell_type": "code",
   "execution_count": 81,
   "id": "01258afb",
   "metadata": {},
   "outputs": [
    {
     "name": "stdout",
     "output_type": "stream",
     "text": [
      "renseigner un mot et un seul, sans espace ni aucun autre caractère que les 26 lettres de l’alphabet barca\n"
     ]
    },
    {
     "data": {
      "text/plain": [
       "'braca'"
      ]
     },
     "execution_count": 81,
     "metadata": {},
     "output_type": "execute_result"
    }
   ],
   "source": [
    "x=input('renseigner un mot et un seul, sans espace ni aucun autre caractère que les 26 lettres de l’alphabet ')\n",
    "lettre='abcdefjhijklmnopqrstuvwxyz'\n",
    "for i in x :\n",
    "    if i not in lettre :\n",
    "        print ('error')\n",
    "        break\n",
    "T=[]\n",
    "for i in x :\n",
    "    T.append(i)\n",
    "for j in T :\n",
    "    L=[]\n",
    "    M=[]\n",
    "    for i in T :       \n",
    "        k=abs(lettre.index(j)-lettre.index(i))         \n",
    "        L.append(k)\n",
    "        if k !=0 :\n",
    "            M.append(k)\n",
    "y=0\n",
    "i=1\n",
    "while i>0 :\n",
    "    i=int(L.index(min(M))-len(T)+1)\n",
    "    y+=1\n",
    "\n",
    "p=T[y]\n",
    "T[y]=T[y+i]\n",
    "T[y+i]=p\n",
    "\n",
    "''.join(T)\n"
   ]
  },
  {
   "cell_type": "code",
   "execution_count": null,
   "id": "94988e5b",
   "metadata": {},
   "outputs": [],
   "source": []
  }
 ],
 "metadata": {
  "kernelspec": {
   "display_name": "Python 3 (ipykernel)",
   "language": "python",
   "name": "python3"
  },
  "language_info": {
   "codemirror_mode": {
    "name": "ipython",
    "version": 3
   },
   "file_extension": ".py",
   "mimetype": "text/x-python",
   "name": "python",
   "nbconvert_exporter": "python",
   "pygments_lexer": "ipython3",
   "version": "3.9.7"
  }
 },
 "nbformat": 4,
 "nbformat_minor": 5
}
